{
 "cells": [
  {
   "cell_type": "markdown",
   "metadata": {},
   "source": [
   
   ]
  },
  {
   "cell_type": "code",
   "execution_count": 1,
   "metadata": {},
   "outputs": [],
   "source": [
    "import pandas as pd \n",
    "import numpy as np\n",
    "#Factset = pd.io.stata.read_stata('Factset.dta')#",
    "#ISS = pd.io.stata.read_stata('ISS.dta')#",
    "#ISS.to_csv('ISS.csv') #",
    "ISS=pd.read_csv(\"ISS.csv\")#"
   ]
  },
  {
   "cell_type": "code",
   "execution_count": 2,
   "metadata": {},
   "outputs": [
    {
     "data": {
      "text/html": [
       "<div>\n",
       "<style scoped>\n",
       "    .dataframe tbody tr th:only-of-type {\n",
       "        vertical-align: middle;\n",
       "    }\n",
       "\n",
       "    .dataframe tbody tr th {\n",
       "        vertical-align: top;\n",
       "    }\n",
       "\n",
       "    .dataframe thead th {\n",
       "        text-align: right;\n",
       "    }\n",
       "</style>\n",
       "<table border=\"1\" class=\"dataframe\">\n",
       "  <thead>\n",
       "    <tr style=\"text-align: right;\">\n",
       "      <th></th>\n",
       "      <th>Unnamed: 0</th>\n",
       "      <th>CompanyID</th>\n",
       "      <th>Name</th>\n",
       "      <th>CountryOfInc</th>\n",
       "      <th>ticker</th>\n",
       "      <th>CUSIP</th>\n",
       "      <th>MeetingID</th>\n",
       "      <th>MeetingType</th>\n",
       "      <th>Recorddate</th>\n",
       "      <th>sponsor</th>\n",
       "      <th>...</th>\n",
       "      <th>VotesForAsSharesOut</th>\n",
       "      <th>VotesForAsVotesCast</th>\n",
       "      <th>VotesForAsYesNo</th>\n",
       "      <th>ProposalText</th>\n",
       "      <th>WithholdNotes</th>\n",
       "      <th>ProponentStatementOnProposal</th>\n",
       "      <th>year</th>\n",
       "      <th>month</th>\n",
       "      <th>day</th>\n",
       "      <th>_merge</th>\n",
       "    </tr>\n",
       "  </thead>\n",
       "  <tbody>\n",
       "    <tr>\n",
       "      <th>0</th>\n",
       "      <td>0</td>\n",
       "      <td>656080.0</td>\n",
       "      <td>ADT, Inc.</td>\n",
       "      <td>USA</td>\n",
       "      <td>ADT</td>\n",
       "      <td>00090Q103</td>\n",
       "      <td>1259397.0</td>\n",
       "      <td>Annual</td>\n",
       "      <td>2018-07-31</td>\n",
       "      <td>Management</td>\n",
       "      <td>...</td>\n",
       "      <td>NaN</td>\n",
       "      <td>NaN</td>\n",
       "      <td>NaN</td>\n",
       "      <td>NaN</td>\n",
       "      <td>NaN</td>\n",
       "      <td>NaN</td>\n",
       "      <td>NaN</td>\n",
       "      <td>NaN</td>\n",
       "      <td>NaN</td>\n",
       "      <td>matched (3)</td>\n",
       "    </tr>\n",
       "    <tr>\n",
       "      <th>1</th>\n",
       "      <td>1</td>\n",
       "      <td>656080.0</td>\n",
       "      <td>ADT, Inc.</td>\n",
       "      <td>USA</td>\n",
       "      <td>ADT</td>\n",
       "      <td>00090Q103</td>\n",
       "      <td>1259397.0</td>\n",
       "      <td>Annual</td>\n",
       "      <td>2018-07-31</td>\n",
       "      <td>Management</td>\n",
       "      <td>...</td>\n",
       "      <td>NaN</td>\n",
       "      <td>NaN</td>\n",
       "      <td>NaN</td>\n",
       "      <td>NaN</td>\n",
       "      <td>NaN</td>\n",
       "      <td>NaN</td>\n",
       "      <td>NaN</td>\n",
       "      <td>NaN</td>\n",
       "      <td>NaN</td>\n",
       "      <td>matched (3)</td>\n",
       "    </tr>\n",
       "    <tr>\n",
       "      <th>2</th>\n",
       "      <td>2</td>\n",
       "      <td>606729.0</td>\n",
       "      <td>AG Mortgage Investment Trust, Inc.</td>\n",
       "      <td>USA</td>\n",
       "      <td>MITT</td>\n",
       "      <td>001228105</td>\n",
       "      <td>1213752.0</td>\n",
       "      <td>Annual</td>\n",
       "      <td>2018-03-07</td>\n",
       "      <td>Management</td>\n",
       "      <td>...</td>\n",
       "      <td>NaN</td>\n",
       "      <td>NaN</td>\n",
       "      <td>NaN</td>\n",
       "      <td>NaN</td>\n",
       "      <td>NaN</td>\n",
       "      <td>NaN</td>\n",
       "      <td>NaN</td>\n",
       "      <td>NaN</td>\n",
       "      <td>NaN</td>\n",
       "      <td>matched (3)</td>\n",
       "    </tr>\n",
       "    <tr>\n",
       "      <th>3</th>\n",
       "      <td>3</td>\n",
       "      <td>606729.0</td>\n",
       "      <td>AG Mortgage Investment Trust, Inc.</td>\n",
       "      <td>USA</td>\n",
       "      <td>MITT</td>\n",
       "      <td>001228105</td>\n",
       "      <td>1213752.0</td>\n",
       "      <td>Annual</td>\n",
       "      <td>2018-03-07</td>\n",
       "      <td>Management</td>\n",
       "      <td>...</td>\n",
       "      <td>NaN</td>\n",
       "      <td>NaN</td>\n",
       "      <td>NaN</td>\n",
       "      <td>NaN</td>\n",
       "      <td>NaN</td>\n",
       "      <td>NaN</td>\n",
       "      <td>NaN</td>\n",
       "      <td>NaN</td>\n",
       "      <td>NaN</td>\n",
       "      <td>matched (3)</td>\n",
       "    </tr>\n",
       "    <tr>\n",
       "      <th>4</th>\n",
       "      <td>4</td>\n",
       "      <td>606476.0</td>\n",
       "      <td>AMC Networks, Inc.</td>\n",
       "      <td>USA</td>\n",
       "      <td>AMCX</td>\n",
       "      <td>00164V103</td>\n",
       "      <td>1233374.0</td>\n",
       "      <td>Annual</td>\n",
       "      <td>2018-04-17</td>\n",
       "      <td>Management</td>\n",
       "      <td>...</td>\n",
       "      <td>NaN</td>\n",
       "      <td>NaN</td>\n",
       "      <td>NaN</td>\n",
       "      <td>NaN</td>\n",
       "      <td>NaN</td>\n",
       "      <td>NaN</td>\n",
       "      <td>NaN</td>\n",
       "      <td>NaN</td>\n",
       "      <td>NaN</td>\n",
       "      <td>matched (3)</td>\n",
       "    </tr>\n",
       "  </tbody>\n",
       "</table>\n",
       "<p>5 rows × 54 columns</p>\n",
       "</div>"
      ],
      "text/plain": [
       "   Unnamed: 0  CompanyID                                Name CountryOfInc  \\\n",
       "0           0   656080.0                           ADT, Inc.          USA   \n",
       "1           1   656080.0                           ADT, Inc.          USA   \n",
       "2           2   606729.0  AG Mortgage Investment Trust, Inc.          USA   \n",
       "3           3   606729.0  AG Mortgage Investment Trust, Inc.          USA   \n",
       "4           4   606476.0                  AMC Networks, Inc.          USA   \n",
       "\n",
       "  ticker      CUSIP  MeetingID MeetingType  Recorddate     sponsor  ...  \\\n",
       "0    ADT  00090Q103  1259397.0      Annual  2018-07-31  Management  ...   \n",
       "1    ADT  00090Q103  1259397.0      Annual  2018-07-31  Management  ...   \n",
       "2   MITT  001228105  1213752.0      Annual  2018-03-07  Management  ...   \n",
       "3   MITT  001228105  1213752.0      Annual  2018-03-07  Management  ...   \n",
       "4   AMCX  00164V103  1233374.0      Annual  2018-04-17  Management  ...   \n",
       "\n",
       "  VotesForAsSharesOut VotesForAsVotesCast VotesForAsYesNo  ProposalText  \\\n",
       "0                 NaN                 NaN             NaN           NaN   \n",
       "1                 NaN                 NaN             NaN           NaN   \n",
       "2                 NaN                 NaN             NaN           NaN   \n",
       "3                 NaN                 NaN             NaN           NaN   \n",
       "4                 NaN                 NaN             NaN           NaN   \n",
       "\n",
       "  WithholdNotes  ProponentStatementOnProposal year month  day       _merge  \n",
       "0           NaN                           NaN  NaN   NaN  NaN  matched (3)  \n",
       "1           NaN                           NaN  NaN   NaN  NaN  matched (3)  \n",
       "2           NaN                           NaN  NaN   NaN  NaN  matched (3)  \n",
       "3           NaN                           NaN  NaN   NaN  NaN  matched (3)  \n",
       "4           NaN                           NaN  NaN   NaN  NaN  matched (3)  \n",
       "\n",
       "[5 rows x 54 columns]"
      ]
     },
     "execution_count": 2,
     "metadata": {},
     "output_type": "execute_result"
    }
   ],
   "source": [
    "ISS30=ISS[0:30]#",
    "ISS30=pd.DataFrame(ISS30)#",
    "ISS30.head()#"
   ]
  },
  {
   "cell_type": "markdown",
   "metadata": {},
   "source": [
    "# "
   ]
  },
  {
   "cell_type": "code",
   "execution_count": 3,
   "metadata": {},
   "outputs": [
    {
     "name": "stdout",
     "output_type": "stream",
     "text": [
      "ItemDesc AgendaGeneralDesc\n",
      "MGMTrec voteResult\n",
      "MGMTrec ISSrec\n",
      "voteResult ISSrec\n",
      "votedFor votedAgainst\n",
      "votedFor firstobs\n",
      "votedAgainst firstobs\n"
     ]
    }
   ],
   "source": [
    "#",
    "pv1 = []  #",
    "pv2 = []\n",
    "n = ISS30.shape[1]  #",
    "for i in range(0, n):  #",
    "    for j in range(i + 1, n):#",
    "        #b1 = np.array(ISS30.iloc[:, i])\n",
    "        #b2 = np.array(ISS30.iloc[:, j])\n",
    "        b1 = ISS30.iloc[:, i]#",
    "        b2 = ISS30.iloc[:, j]#",
    "        a=b1==b2#",
    "        a1 = ISS30.columns[i]#",
    "        a2 = ISS30.columns[j]#",
    "        b=pd.DataFrame(a.describe())#a.describe()",
    "        c=b.T[\"top\"]#",
    "        c=pd.DataFrame(c)#",
    "        c=c.iloc[0,0]#",
    "        if c == True:\n",
    "            print(a1,a2)#",
    "            #pv1.append(a1)#可选\n",
    "            #pv2.append(a2)#可选\n",
    "#pv1=pd.DataFrame(pv1)#",
    "#pv2=pd.DataFrame(pv2)#"
   ]
  },
  {
   "cell_type": "code",
   "execution_count": 4,
   "metadata": {},
   "outputs": [],
   "source": [
    "",
    "New_ISS30 = ISS30.drop(['AgendaGeneralDesc'], axis=1, inplace=False)\n",
    "#axis=0，",
    "#inplace=False，"
   ]
  },
  {
   "cell_type": "code",
   "execution_count": 5,
   "metadata": {},
   "outputs": [
    {
     "data": {
      "text/html": [
       "<div>\n",
       "<style scoped>\n",
       "    .dataframe tbody tr th:only-of-type {\n",
       "        vertical-align: middle;\n",
       "    }\n",
       "\n",
       "    .dataframe tbody tr th {\n",
       "        vertical-align: top;\n",
       "    }\n",
       "\n",
       "    .dataframe thead th {\n",
       "        text-align: right;\n",
       "    }\n",
       "</style>\n",
       "<table border=\"1\" class=\"dataframe\">\n",
       "  <thead>\n",
       "    <tr style=\"text-align: right;\">\n",
       "      <th></th>\n",
       "      <th>Unnamed: 0</th>\n",
       "      <th>CompanyID</th>\n",
       "      <th>Name</th>\n",
       "      <th>CountryOfInc</th>\n",
       "      <th>ticker</th>\n",
       "      <th>CUSIP</th>\n",
       "      <th>MeetingID</th>\n",
       "      <th>MeetingType</th>\n",
       "      <th>Recorddate</th>\n",
       "      <th>sponsor</th>\n",
       "      <th>...</th>\n",
       "      <th>VotesForAsSharesOut</th>\n",
       "      <th>VotesForAsVotesCast</th>\n",
       "      <th>VotesForAsYesNo</th>\n",
       "      <th>ProposalText</th>\n",
       "      <th>WithholdNotes</th>\n",
       "      <th>ProponentStatementOnProposal</th>\n",
       "      <th>year</th>\n",
       "      <th>month</th>\n",
       "      <th>day</th>\n",
       "      <th>_merge</th>\n",
       "    </tr>\n",
       "  </thead>\n",
       "  <tbody>\n",
       "    <tr>\n",
       "      <th>0</th>\n",
       "      <td>0</td>\n",
       "      <td>656080.0</td>\n",
       "      <td>ADT, Inc.</td>\n",
       "      <td>USA</td>\n",
       "      <td>ADT</td>\n",
       "      <td>00090Q103</td>\n",
       "      <td>1259397.0</td>\n",
       "      <td>Annual</td>\n",
       "      <td>2018-07-31</td>\n",
       "      <td>Management</td>\n",
       "      <td>...</td>\n",
       "      <td>NaN</td>\n",
       "      <td>NaN</td>\n",
       "      <td>NaN</td>\n",
       "      <td>NaN</td>\n",
       "      <td>NaN</td>\n",
       "      <td>NaN</td>\n",
       "      <td>NaN</td>\n",
       "      <td>NaN</td>\n",
       "      <td>NaN</td>\n",
       "      <td>matched (3)</td>\n",
       "    </tr>\n",
       "    <tr>\n",
       "      <th>1</th>\n",
       "      <td>1</td>\n",
       "      <td>656080.0</td>\n",
       "      <td>ADT, Inc.</td>\n",
       "      <td>USA</td>\n",
       "      <td>ADT</td>\n",
       "      <td>00090Q103</td>\n",
       "      <td>1259397.0</td>\n",
       "      <td>Annual</td>\n",
       "      <td>2018-07-31</td>\n",
       "      <td>Management</td>\n",
       "      <td>...</td>\n",
       "      <td>NaN</td>\n",
       "      <td>NaN</td>\n",
       "      <td>NaN</td>\n",
       "      <td>NaN</td>\n",
       "      <td>NaN</td>\n",
       "      <td>NaN</td>\n",
       "      <td>NaN</td>\n",
       "      <td>NaN</td>\n",
       "      <td>NaN</td>\n",
       "      <td>matched (3)</td>\n",
       "    </tr>\n",
       "    <tr>\n",
       "      <th>2</th>\n",
       "      <td>2</td>\n",
       "      <td>606729.0</td>\n",
       "      <td>AG Mortgage Investment Trust, Inc.</td>\n",
       "      <td>USA</td>\n",
       "      <td>MITT</td>\n",
       "      <td>001228105</td>\n",
       "      <td>1213752.0</td>\n",
       "      <td>Annual</td>\n",
       "      <td>2018-03-07</td>\n",
       "      <td>Management</td>\n",
       "      <td>...</td>\n",
       "      <td>NaN</td>\n",
       "      <td>NaN</td>\n",
       "      <td>NaN</td>\n",
       "      <td>NaN</td>\n",
       "      <td>NaN</td>\n",
       "      <td>NaN</td>\n",
       "      <td>NaN</td>\n",
       "      <td>NaN</td>\n",
       "      <td>NaN</td>\n",
       "      <td>matched (3)</td>\n",
       "    </tr>\n",
       "    <tr>\n",
       "      <th>3</th>\n",
       "      <td>3</td>\n",
       "      <td>606729.0</td>\n",
       "      <td>AG Mortgage Investment Trust, Inc.</td>\n",
       "      <td>USA</td>\n",
       "      <td>MITT</td>\n",
       "      <td>001228105</td>\n",
       "      <td>1213752.0</td>\n",
       "      <td>Annual</td>\n",
       "      <td>2018-03-07</td>\n",
       "      <td>Management</td>\n",
       "      <td>...</td>\n",
       "      <td>NaN</td>\n",
       "      <td>NaN</td>\n",
       "      <td>NaN</td>\n",
       "      <td>NaN</td>\n",
       "      <td>NaN</td>\n",
       "      <td>NaN</td>\n",
       "      <td>NaN</td>\n",
       "      <td>NaN</td>\n",
       "      <td>NaN</td>\n",
       "      <td>matched (3)</td>\n",
       "    </tr>\n",
       "    <tr>\n",
       "      <th>4</th>\n",
       "      <td>4</td>\n",
       "      <td>606476.0</td>\n",
       "      <td>AMC Networks, Inc.</td>\n",
       "      <td>USA</td>\n",
       "      <td>AMCX</td>\n",
       "      <td>00164V103</td>\n",
       "      <td>1233374.0</td>\n",
       "      <td>Annual</td>\n",
       "      <td>2018-04-17</td>\n",
       "      <td>Management</td>\n",
       "      <td>...</td>\n",
       "      <td>NaN</td>\n",
       "      <td>NaN</td>\n",
       "      <td>NaN</td>\n",
       "      <td>NaN</td>\n",
       "      <td>NaN</td>\n",
       "      <td>NaN</td>\n",
       "      <td>NaN</td>\n",
       "      <td>NaN</td>\n",
       "      <td>NaN</td>\n",
       "      <td>matched (3)</td>\n",
       "    </tr>\n",
       "  </tbody>\n",
       "</table>\n",
       "<p>5 rows × 53 columns</p>\n",
       "</div>"
      ],
      "text/plain": [
       "   Unnamed: 0  CompanyID                                Name CountryOfInc  \\\n",
       "0           0   656080.0                           ADT, Inc.          USA   \n",
       "1           1   656080.0                           ADT, Inc.          USA   \n",
       "2           2   606729.0  AG Mortgage Investment Trust, Inc.          USA   \n",
       "3           3   606729.0  AG Mortgage Investment Trust, Inc.          USA   \n",
       "4           4   606476.0                  AMC Networks, Inc.          USA   \n",
       "\n",
       "  ticker      CUSIP  MeetingID MeetingType  Recorddate     sponsor  ...  \\\n",
       "0    ADT  00090Q103  1259397.0      Annual  2018-07-31  Management  ...   \n",
       "1    ADT  00090Q103  1259397.0      Annual  2018-07-31  Management  ...   \n",
       "2   MITT  001228105  1213752.0      Annual  2018-03-07  Management  ...   \n",
       "3   MITT  001228105  1213752.0      Annual  2018-03-07  Management  ...   \n",
       "4   AMCX  00164V103  1233374.0      Annual  2018-04-17  Management  ...   \n",
       "\n",
       "  VotesForAsSharesOut VotesForAsVotesCast VotesForAsYesNo  ProposalText  \\\n",
       "0                 NaN                 NaN             NaN           NaN   \n",
       "1                 NaN                 NaN             NaN           NaN   \n",
       "2                 NaN                 NaN             NaN           NaN   \n",
       "3                 NaN                 NaN             NaN           NaN   \n",
       "4                 NaN                 NaN             NaN           NaN   \n",
       "\n",
       "  WithholdNotes  ProponentStatementOnProposal year  month day       _merge  \n",
       "0           NaN                           NaN  NaN    NaN NaN  matched (3)  \n",
       "1           NaN                           NaN  NaN    NaN NaN  matched (3)  \n",
       "2           NaN                           NaN  NaN    NaN NaN  matched (3)  \n",
       "3           NaN                           NaN  NaN    NaN NaN  matched (3)  \n",
       "4           NaN                           NaN  NaN    NaN NaN  matched (3)  \n",
       "\n",
       "[5 rows x 53 columns]"
      ]
     },
     "execution_count": 5,
     "metadata": {},
     "output_type": "execute_result"
    }
   ],
   "source": [
    ""
   ]
  },
  {
   "cell_type": "markdown",
   "metadata": {},
   "source": [
    ""
   ]
  },
  {
   "cell_type": "code",
   "execution_count": 6,
   "metadata": {},
   "outputs": [],
   "source": [
    "import pandas as pd \n",
    "import numpy as np\n",
    "#Factset = pd.io.stata.read_stata('Factset.dta')#",
    "#Factset.to_csv('Factset.csv') #",
    "Factset=pd.read_csv(\"Factset.csv\")#"
   ]
  },
  {
   "cell_type": "code",
   "execution_count": 7,
   "metadata": {},
   "outputs": [
    {
     "data": {
      "text/html": [
       "<div>\n",
       "<style scoped>\n",
       "    .dataframe tbody tr th:only-of-type {\n",
       "        vertical-align: middle;\n",
       "    }\n",
       "\n",
       "    .dataframe tbody tr th {\n",
       "        vertical-align: top;\n",
       "    }\n",
       "\n",
       "    .dataframe thead th {\n",
       "        text-align: right;\n",
       "    }\n",
       "</style>\n",
       "<table border=\"1\" class=\"dataframe\">\n",
       "  <thead>\n",
       "    <tr style=\"text-align: right;\">\n",
       "      <th></th>\n",
       "      <th>Unnamed: 0</th>\n",
       "      <th>Symbol</th>\n",
       "      <th>string_MeetingDate</th>\n",
       "      <th>CompanyName</th>\n",
       "      <th>Ticker</th>\n",
       "      <th>CompanyState</th>\n",
       "      <th>ProxyProposal</th>\n",
       "      <th>ProposalBroughtby</th>\n",
       "      <th>ProponentName</th>\n",
       "      <th>ProxyProposalResult</th>\n",
       "      <th>...</th>\n",
       "      <th>outstandingShare</th>\n",
       "      <th>votedAgainst</th>\n",
       "      <th>votedAbstain</th>\n",
       "      <th>brokerNonVote</th>\n",
       "      <th>VotedWithheld</th>\n",
       "      <th>votes1yr</th>\n",
       "      <th>votes2yr</th>\n",
       "      <th>votes3yr</th>\n",
       "      <th>ISSrec</th>\n",
       "      <th>length_cusip</th>\n",
       "    </tr>\n",
       "  </thead>\n",
       "  <tbody>\n",
       "    <tr>\n",
       "      <th>0</th>\n",
       "      <td>0</td>\n",
       "      <td>12144273319P</td>\n",
       "      <td>20180921</td>\n",
       "      <td>ADT, Inc.</td>\n",
       "      <td>ADT-US</td>\n",
       "      <td>Delaware</td>\n",
       "      <td>Management Proposed Advisory Vote on the Frequ...</td>\n",
       "      <td>Management</td>\n",
       "      <td>@NA</td>\n",
       "      <td>Pass</td>\n",
       "      <td>...</td>\n",
       "      <td>NaN</td>\n",
       "      <td>NaN</td>\n",
       "      <td>NaN</td>\n",
       "      <td>NaN</td>\n",
       "      <td>NaN</td>\n",
       "      <td>NaN</td>\n",
       "      <td>NaN</td>\n",
       "      <td>NaN</td>\n",
       "      <td>NaN</td>\n",
       "      <td>NaN</td>\n",
       "    </tr>\n",
       "    <tr>\n",
       "      <th>1</th>\n",
       "      <td>1</td>\n",
       "      <td>12144193206P</td>\n",
       "      <td>20180502</td>\n",
       "      <td>AG Mortgage Investment Trust, Inc.</td>\n",
       "      <td>MITT-US</td>\n",
       "      <td>Maryland</td>\n",
       "      <td>Management Proposed Advisory Vote on the Frequ...</td>\n",
       "      <td>Management</td>\n",
       "      <td>@NA</td>\n",
       "      <td>Pass</td>\n",
       "      <td>...</td>\n",
       "      <td>NaN</td>\n",
       "      <td>NaN</td>\n",
       "      <td>NaN</td>\n",
       "      <td>NaN</td>\n",
       "      <td>NaN</td>\n",
       "      <td>NaN</td>\n",
       "      <td>NaN</td>\n",
       "      <td>NaN</td>\n",
       "      <td>NaN</td>\n",
       "      <td>NaN</td>\n",
       "    </tr>\n",
       "    <tr>\n",
       "      <th>2</th>\n",
       "      <td>2</td>\n",
       "      <td>12144200690P</td>\n",
       "      <td>20180612</td>\n",
       "      <td>AMC Networks Inc.</td>\n",
       "      <td>AMCX-US</td>\n",
       "      <td>Delaware</td>\n",
       "      <td>Management Proposed Advisory Vote on the Frequ...</td>\n",
       "      <td>Management</td>\n",
       "      <td>@NA</td>\n",
       "      <td>Pass</td>\n",
       "      <td>...</td>\n",
       "      <td>NaN</td>\n",
       "      <td>NaN</td>\n",
       "      <td>NaN</td>\n",
       "      <td>NaN</td>\n",
       "      <td>NaN</td>\n",
       "      <td>NaN</td>\n",
       "      <td>NaN</td>\n",
       "      <td>NaN</td>\n",
       "      <td>NaN</td>\n",
       "      <td>NaN</td>\n",
       "    </tr>\n",
       "    <tr>\n",
       "      <th>3</th>\n",
       "      <td>3</td>\n",
       "      <td>12144160364P</td>\n",
       "      <td>20170601</td>\n",
       "      <td>AV Homes, Inc.</td>\n",
       "      <td>AVHI-US</td>\n",
       "      <td>Delaware</td>\n",
       "      <td>Management Proposed Advisory Vote on the Frequ...</td>\n",
       "      <td>Management</td>\n",
       "      <td>@NA</td>\n",
       "      <td>Pass</td>\n",
       "      <td>...</td>\n",
       "      <td>NaN</td>\n",
       "      <td>NaN</td>\n",
       "      <td>NaN</td>\n",
       "      <td>NaN</td>\n",
       "      <td>NaN</td>\n",
       "      <td>NaN</td>\n",
       "      <td>NaN</td>\n",
       "      <td>NaN</td>\n",
       "      <td>NaN</td>\n",
       "      <td>NaN</td>\n",
       "    </tr>\n",
       "    <tr>\n",
       "      <th>4</th>\n",
       "      <td>4</td>\n",
       "      <td>12144193055P</td>\n",
       "      <td>20180504</td>\n",
       "      <td>AbbVie Inc.</td>\n",
       "      <td>ABBV-US</td>\n",
       "      <td>Delaware</td>\n",
       "      <td>Management Proposed Advisory Vote on the Frequ...</td>\n",
       "      <td>Management</td>\n",
       "      <td>@NA</td>\n",
       "      <td>Pass</td>\n",
       "      <td>...</td>\n",
       "      <td>NaN</td>\n",
       "      <td>NaN</td>\n",
       "      <td>NaN</td>\n",
       "      <td>NaN</td>\n",
       "      <td>NaN</td>\n",
       "      <td>NaN</td>\n",
       "      <td>NaN</td>\n",
       "      <td>NaN</td>\n",
       "      <td>NaN</td>\n",
       "      <td>NaN</td>\n",
       "    </tr>\n",
       "  </tbody>\n",
       "</table>\n",
       "<p>5 rows × 53 columns</p>\n",
       "</div>"
      ],
      "text/plain": [
       "   Unnamed: 0        Symbol  string_MeetingDate  \\\n",
       "0           0  12144273319P            20180921   \n",
       "1           1  12144193206P            20180502   \n",
       "2           2  12144200690P            20180612   \n",
       "3           3  12144160364P            20170601   \n",
       "4           4  12144193055P            20180504   \n",
       "\n",
       "                          CompanyName   Ticker CompanyState  \\\n",
       "0                           ADT, Inc.   ADT-US     Delaware   \n",
       "1  AG Mortgage Investment Trust, Inc.  MITT-US     Maryland   \n",
       "2                   AMC Networks Inc.  AMCX-US     Delaware   \n",
       "3                      AV Homes, Inc.  AVHI-US     Delaware   \n",
       "4                         AbbVie Inc.  ABBV-US     Delaware   \n",
       "\n",
       "                                       ProxyProposal ProposalBroughtby  \\\n",
       "0  Management Proposed Advisory Vote on the Frequ...        Management   \n",
       "1  Management Proposed Advisory Vote on the Frequ...        Management   \n",
       "2  Management Proposed Advisory Vote on the Frequ...        Management   \n",
       "3  Management Proposed Advisory Vote on the Frequ...        Management   \n",
       "4  Management Proposed Advisory Vote on the Frequ...        Management   \n",
       "\n",
       "  ProponentName ProxyProposalResult  ... outstandingShare  votedAgainst  \\\n",
       "0           @NA                Pass  ...              NaN           NaN   \n",
       "1           @NA                Pass  ...              NaN           NaN   \n",
       "2           @NA                Pass  ...              NaN           NaN   \n",
       "3           @NA                Pass  ...              NaN           NaN   \n",
       "4           @NA                Pass  ...              NaN           NaN   \n",
       "\n",
       "   votedAbstain  brokerNonVote VotedWithheld  votes1yr votes2yr votes3yr  \\\n",
       "0           NaN            NaN           NaN       NaN      NaN      NaN   \n",
       "1           NaN            NaN           NaN       NaN      NaN      NaN   \n",
       "2           NaN            NaN           NaN       NaN      NaN      NaN   \n",
       "3           NaN            NaN           NaN       NaN      NaN      NaN   \n",
       "4           NaN            NaN           NaN       NaN      NaN      NaN   \n",
       "\n",
       "  ISSrec  length_cusip  \n",
       "0    NaN           NaN  \n",
       "1    NaN           NaN  \n",
       "2    NaN           NaN  \n",
       "3    NaN           NaN  \n",
       "4    NaN           NaN  \n",
       "\n",
       "[5 rows x 53 columns]"
      ]
     },
     "execution_count": 7,
     "metadata": {},
     "output_type": "execute_result"
    }
   ],
   "source": [
    "Factset30=Factset[0:30]#",
    "Factset30=pd.DataFrame(Factset30)#",
    "Factset30.head()#"
   ]
  },
  {
   "cell_type": "markdown",
   "metadata": {},
   "source": [
    "# "
   ]
  },
  {
   "cell_type": "code",
   "execution_count": 8,
   "metadata": {},
   "outputs": [
    {
     "name": "stdout",
     "output_type": "stream",
     "text": [
      "ProponentName WithholdNotes\n",
      "ProponentName ProponentStatementOnProposal\n",
      "VotesForAsSharesOut VotesForAsVotesCast\n",
      "WithholdNotes ProponentStatementOnProposal\n"
     ]
    }
   ],
   "source": [
    "#",
    "pv1 = []  #",
    "pv2 = []\n",
    "n = Factset30.shape[1]  #",
    "for i in range(0, n):  #",
    "    for j in range(i + 1, n):#",
    "        b1 = Factset30.iloc[:, i]#",
    "        b2 = Factset30.iloc[:, j]#",
    "        a=b1==b2#",
    "        a1 = Factset30.columns[i]#",
    "        a2 = Factset30.columns[j]#",
    "        b=pd.DataFrame(a.describe())#",
    "        c=b.T[\"top\"]#",
    "        c=pd.DataFrame(c)#",
    "        c=c.iloc[0,0]#",
    "        if c == True:\n",
    "            print(a1,a2)#",
    "            #pv1.append(a1)#",
    "            #pv2.append(a2)#",
    "#pv1=pd.DataFrame(pv1)#",
    "#pv2=pd.DataFrame(pv2)#"
   ]
  },
  {
   "cell_type": "markdown",
   "metadata": {},
   "source": [
    "## "
   ]
  },
  {
   "cell_type": "code",
   "execution_count": 9,
   "metadata": {},
   "outputs": [
    {
     "data": {
      "text/plain": [
       "count     1874\n",
       "unique       1\n",
       "top        @NA\n",
       "freq      1874\n",
       "Name: ProponentName, dtype: object"
      ]
     },
     "execution_count": 9,
     "metadata": {},
     "output_type": "execute_result"
    }
   ],
   "source": [
    "Factset.ProponentName.describe()"
   ]
  },
  {
   "cell_type": "code",
   "execution_count": 10,
   "metadata": {},
   "outputs": [
    {
     "data": {
      "text/plain": [
       "count     1874\n",
       "unique       3\n",
       "top        @NA\n",
       "freq      1872\n",
       "Name: WithholdNotes, dtype: object"
      ]
     },
     "execution_count": 10,
     "metadata": {},
     "output_type": "execute_result"
    }
   ],
   "source": [
    "Factset.WithholdNotes.describe()"
   ]
  },
  {
   "cell_type": "code",
   "execution_count": 11,
   "metadata": {},
   "outputs": [
    {
     "data": {
      "text/plain": [
       "count     1874\n",
       "unique       1\n",
       "top        @NA\n",
       "freq      1874\n",
       "Name: ProponentStatementOnProposal, dtype: object"
      ]
     },
     "execution_count": 11,
     "metadata": {},
     "output_type": "execute_result"
    }
   ],
   "source": [
    "Factset.ProponentStatementOnProposal.describe()"
   ]
  },
  {
   "cell_type": "code",
   "execution_count": 12,
   "metadata": {},
   "outputs": [
    {
     "data": {
      "text/plain": [
       "count    1874.0\n",
       "mean        0.0\n",
       "std         0.0\n",
       "min         0.0\n",
       "25%         0.0\n",
       "50%         0.0\n",
       "75%         0.0\n",
       "max         0.0\n",
       "Name: VotesForAsSharesOut, dtype: float64"
      ]
     },
     "execution_count": 12,
     "metadata": {},
     "output_type": "execute_result"
    }
   ],
   "source": [
    "Factset.VotesForAsSharesOut .describe()"
   ]
  },
  {
   "cell_type": "code",
   "execution_count": 13,
   "metadata": {},
   "outputs": [
    {
     "data": {
      "text/plain": [
       "count    1874.0\n",
       "mean        0.0\n",
       "std         0.0\n",
       "min         0.0\n",
       "25%         0.0\n",
       "50%         0.0\n",
       "75%         0.0\n",
       "max         0.0\n",
       "Name: VotesForAsVotesCast, dtype: float64"
      ]
     },
     "execution_count": 13,
     "metadata": {},
     "output_type": "execute_result"
    }
   ],
   "source": [
    "Factset.VotesForAsVotesCast.describe()"
   ]
  },
  {
   "cell_type": "code",
   "execution_count": 14,
   "metadata": {},
   "outputs": [
    {
     "data": {
      "text/plain": [
       "count     1874\n",
       "unique       3\n",
       "top        @NA\n",
       "freq      1872\n",
       "Name: WithholdNotes, dtype: object"
      ]
     },
     "execution_count": 14,
     "metadata": {},
     "output_type": "execute_result"
    }
   ],
   "source": [
    "Factset.WithholdNotes.describe()"
   ]
  },
  {
   "cell_type": "code",
   "execution_count": 15,
   "metadata": {},
   "outputs": [
    {
     "data": {
      "text/plain": [
       "count     1874\n",
       "unique       1\n",
       "top        @NA\n",
       "freq      1874\n",
       "Name: ProponentStatementOnProposal, dtype: object"
      ]
     },
     "execution_count": 15,
     "metadata": {},
     "output_type": "execute_result"
    }
   ],
   "source": [
    "Factset.ProponentStatementOnProposal.describe()"
   ]
  },
  {
   "cell_type": "markdown",
   "metadata": {},
   "source": [
    ""
   ]
  },
  {
   "cell_type": "markdown",
   "metadata": {},
   "source": [
    ""
   ]
  },
  {
   "cell_type": "markdown",
   "metadata": {},
   "source": [
    ""
   ]
  },
  {
   "cell_type": "code",
   "execution_count": 16,
   "metadata": {},
   "outputs": [
    {
     "name": "stdout",
     "output_type": "stream",
     "text": [
      "3183\n",
      "1874\n"
     ]
    }
   ],
   "source": [
    "import pandas as pd\n",
    "import numpy as np\n",
    "\n",
    "Factset = pd.io.stata.read_stata('Factset.dta')#",
    "ISS = pd.io.stata.read_stata('ISS.dta')#",
    "Factset.to_csv('Factset.csv') #",
    "ISS.to_csv('ISS.csv') #",
    "\n",
    "ISS = pd.read_csv(\"ISS.csv\")#",
    "Factset = pd.read_csv(\"Factset.csv\")#",
    "#ISS30 = ISS[0:30]  #",
    "ISS = pd.DataFrame(ISS)  #",
    "#Factset30 = Factset[0:30]  #",
    "Factset = pd.DataFrame(Factset)  #",
    "\n",
    "print(ISS.shape[0])#",
    "print(Factset.shape[0])#"
   ]
  },
  {
   "cell_type": "markdown",
   "metadata": {},
   "source": [
    "## "
   ]
  },
  {
   "cell_type": "code",
   "execution_count": 17,
   "metadata": {},
   "outputs": [
    {
     "data": {
      "text/plain": [
       "Index(['Unnamed: 0', 'CompanyID', 'Name', 'CountryOfInc', 'ticker', 'CUSIP',\n",
       "       'MeetingID', 'MeetingType', 'Recorddate', 'sponsor', 'ISSAgendaItemID',\n",
       "       'ItemDesc', 'BallotItemNumber', 'SeqNumber', 'MGMTrec',\n",
       "       'voteRequirement', 'AgendaGeneralDesc', 'MeetingDate', 'itemOnAgendaID',\n",
       "       'base', 'voteResult', 'outstandingShare', 'votedFor', 'votedAgainst',\n",
       "       'votedAbstain', 'brokerNonVote', 'VotedWithheld', 'votes1yr',\n",
       "       'votes2yr', 'votes3yr', 'ISSrec', 'length_cusip', 'firstobs',\n",
       "       'proposals', 'Symbol', 'string_MeetingDate', 'CompanyName', 'Ticker',\n",
       "       'CompanyState', 'ProxyProposal', 'ProposalBroughtby', 'ProponentName',\n",
       "       'ProxyProposalResult', 'ProposalinProxy', 'VotesForAsSharesOut',\n",
       "       'VotesForAsVotesCast', 'VotesForAsYesNo', 'ProposalText',\n",
       "       'WithholdNotes', 'ProponentStatementOnProposal', 'year', 'month', 'day',\n",
       "       '_merge'],\n",
       "      dtype='object')"
      ]
     },
     "execution_count": 17,
     "metadata": {},
     "output_type": "execute_result"
    }
   ],
   "source": [
    "n_ISS = ISS.shape[1]  #",
    "ISS_name = ISS.columns[0:n_ISS]  #",
    "ISS_name"
   ]
  },
  {
   "cell_type": "code",
   "execution_count": 18,
   "metadata": {},
   "outputs": [],
   "source": [
    "#,
    "ISS.drop(columns=['AgendaGeneralDesc'],inplace = True)#inplace = True"
   ]
  },
  {
   "cell_type": "code",
   "execution_count": 19,
   "metadata": {},
   "outputs": [
    {
     "data": {
      "text/plain": [
       "count    0.0\n",
       "mean     NaN\n",
       "std      NaN\n",
       "min      NaN\n",
       "25%      NaN\n",
       "50%      NaN\n",
       "75%      NaN\n",
       "max      NaN\n",
       "Name: ProxyProposal, dtype: float64"
      ]
     },
     "execution_count": 19,
     "metadata": {},
     "output_type": "execute_result"
    }
   ],
   "source": [
    "ISS.ProxyProposal.describe()"
   ]
  },
  {
   "cell_type": "code",
   "execution_count": 20,
   "metadata": {},
   "outputs": [],
   "source": [
    "#",
    "ISS.drop(columns=['ProxyProposal'],inplace = True)#inplace = True"
   ]
  },
  {
   "cell_type": "code",
   "execution_count": 21,
   "metadata": {},
   "outputs": [
    {
     "data": {
      "text/plain": [
       "Index(['Unnamed: 0', 'CompanyID', 'Name', 'CountryOfInc', 'ticker', 'CUSIP',\n",
       "       'MeetingID', 'MeetingType', 'Recorddate', 'sponsor', 'ISSAgendaItemID',\n",
       "       'ItemDesc', 'BallotItemNumber', 'SeqNumber', 'MGMTrec',\n",
       "       'voteRequirement', 'MeetingDate', 'itemOnAgendaID', 'base',\n",
       "       'voteResult', 'outstandingShare', 'votedFor', 'votedAgainst',\n",
       "       'votedAbstain', 'brokerNonVote', 'VotedWithheld', 'votes1yr',\n",
       "       'votes2yr', 'votes3yr', 'ISSrec', 'length_cusip', 'firstobs',\n",
       "       'proposals', 'Symbol', 'string_MeetingDate', 'CompanyName', 'Ticker',\n",
       "       'CompanyState', 'ProposalBroughtby', 'ProponentName',\n",
       "       'ProxyProposalResult', 'ProposalinProxy', 'VotesForAsSharesOut',\n",
       "       'VotesForAsVotesCast', 'VotesForAsYesNo', 'ProposalText',\n",
       "       'WithholdNotes', 'ProponentStatementOnProposal', 'year', 'month', 'day',\n",
       "       '_merge'],\n",
       "      dtype='object')"
      ]
     },
     "execution_count": 21,
     "metadata": {},
     "output_type": "execute_result"
    }
   ],
   "source": [
    "#",
    "n_ISS = ISS.shape[1]  #",
    "ISS_name = ISS.columns[0:n_ISS]  #",
    "ISS_name"
   ]
  },
  {
   "cell_type": "markdown",
   "metadata": {},
   "source": [
    ""
   ]
  },
  {
   "cell_type": "code",
   "execution_count": 22,
   "metadata": {},
   "outputs": [
    {
     "data": {
      "text/plain": [
       "Index(['Unnamed: 0', 'Symbol', 'string_MeetingDate', 'CompanyName', 'Ticker',\n",
       "       'CompanyState', 'ProxyProposal', 'ProposalBroughtby', 'ProponentName',\n",
       "       'ProxyProposalResult', 'ProposalinProxy', 'VotesForAsSharesOut',\n",
       "       'VotesForAsVotesCast', 'VotesForAsYesNo', 'ProposalText', 'votedFor',\n",
       "       'CUSIP', 'WithholdNotes', 'ProponentStatementOnProposal', 'year',\n",
       "       'month', 'day', 'MeetingDate', 'firstobs', 'proposals', 'CompanyID',\n",
       "       'Name', 'CountryOfInc', 'ticker', 'MeetingID', 'MeetingType',\n",
       "       'Recorddate', 'sponsor', 'ISSAgendaItemID', 'ItemDesc',\n",
       "       'BallotItemNumber', 'SeqNumber', 'MGMTrec', 'voteRequirement',\n",
       "       'AgendaGeneralDesc', 'itemOnAgendaID', 'base', 'voteResult',\n",
       "       'outstandingShare', 'votedAgainst', 'votedAbstain', 'brokerNonVote',\n",
       "       'VotedWithheld', 'votes1yr', 'votes2yr', 'votes3yr', 'ISSrec'],\n",
       "      dtype='object')"
      ]
     },
     "execution_count": 22,
     "metadata": {},
     "output_type": "execute_result"
    }
   ],
   "source": [
    "n_Factset = Factset.shape[1]  #",
    "Factset_name = Factset.columns[0:n_ISS]  #",
    "Factset_name"
   ]
  },
  {
   "cell_type": "code",
   "execution_count": 23,
   "metadata": {},
   "outputs": [
    {
     "data": {
      "text/plain": [
       "count    0.0\n",
       "mean     NaN\n",
       "std      NaN\n",
       "min      NaN\n",
       "25%      NaN\n",
       "50%      NaN\n",
       "75%      NaN\n",
       "max      NaN\n",
       "Name: AgendaGeneralDesc, dtype: float64"
      ]
     },
     "execution_count": 23,
     "metadata": {},
     "output_type": "execute_result"
    }
   ],
   "source": [
    "Factset.ItemDesc.describe()\n",
    "Factset.AgendaGeneralDesc.describe()\n",
    "#"
   ]
  },
  {
   "cell_type": "code",
   "execution_count": 24,
   "metadata": {},
   "outputs": [],
   "source": [
    "Factset.drop(columns=['ItemDesc'],inplace = True)#inplace = True",
    "Factset.drop(columns=['AgendaGeneralDesc'],inplace = True)#inplace = True"
   ]
  },
  {
   "cell_type": "code",
   "execution_count": 25,
   "metadata": {},
   "outputs": [
    {
     "data": {
      "text/plain": [
       "count    0.0\n",
       "mean     NaN\n",
       "std      NaN\n",
       "min      NaN\n",
       "25%      NaN\n",
       "50%      NaN\n",
       "75%      NaN\n",
       "max      NaN\n",
       "Name: Name, dtype: float64"
      ]
     },
     "execution_count": 25,
     "metadata": {},
     "output_type": "execute_result"
    }
   ],
   "source": [
    "Factset.Name.describe()#"
   ]
  },
  {
   "cell_type": "code",
   "execution_count": 26,
   "metadata": {},
   "outputs": [],
   "source": [
    "Factset.drop(columns=['Name'],inplace = True)#inplace = True"
   ]
  },
  {
   "cell_type": "markdown",
   "metadata": {},
   "source": [
    ""
   ]
  },
  {
   "cell_type": "code",
   "execution_count": 27,
   "metadata": {},
   "outputs": [
    {
     "data": {
      "text/plain": [
       "Index(['Unnamed: 0', 'Symbol', 'string_MeetingDate', 'Name', 'Ticker',\n",
       "       'CompanyState', 'ItemDesc', 'ProposalBroughtby', 'ProponentName',\n",
       "       'ProxyProposalResult', 'ProposalinProxy', 'VotesForAsSharesOut',\n",
       "       'VotesForAsVotesCast', 'VotesForAsYesNo', 'ProposalText', 'votedFor',\n",
       "       'CUSIP', 'WithholdNotes', 'ProponentStatementOnProposal', 'year',\n",
       "       'month', 'day', 'MeetingDate', 'firstobs', 'proposals', 'CompanyID',\n",
       "       'CountryOfInc', 'ticker', 'MeetingID', 'MeetingType', 'Recorddate',\n",
       "       'sponsor', 'ISSAgendaItemID', 'BallotItemNumber', 'SeqNumber',\n",
       "       'MGMTrec', 'voteRequirement', 'itemOnAgendaID', 'base', 'voteResult',\n",
       "       'outstandingShare', 'votedAgainst', 'votedAbstain', 'brokerNonVote',\n",
       "       'VotedWithheld', 'votes1yr', 'votes2yr', 'votes3yr', 'ISSrec',\n",
       "       'length_cusip'],\n",
       "      dtype='object')"
      ]
     },
     "execution_count": 27,
     "metadata": {},
     "output_type": "execute_result"
    }
   ],
   "source": [
    "\n",
    "Factset.rename(columns={'CompanyName':'Name','ProxyProposal':'ItemDesc'},inplace = True)#inplace = True",
    "n_Factset = Factset.shape[1]  #",
    "Factset_name = Factset.columns[0:n_Factset]  #",
    "Factset_name"
   ]
  },
  {
   "cell_type": "markdown",
   "metadata": {},
   "source": [
    "## "
   ]
  },
  {
   "cell_type": "code",
   "execution_count": 32,
   "metadata": {},
   "outputs": [],
   "source": [
    "#ISS = ISS.set_index(ISS['CUSIP']) #",
    "#Factset = Factset.set_index(Factset['CUSIP']) #",
    "df=pd.concat([ISS,Factset],axis = 0,join = 'outer', ignore_index=False)#集"
   ]
  },
  {
   "cell_type": "code",
   "execution_count": 33,
   "metadata": {},
   "outputs": [],
   "source": [
    "df['combined_id'] = pd.factorize(df.Name+df.CUSIP+df.MeetingDate)[0]#根据Name、CUSIP、MeetingDate生成唯一ID"
   ]
  },
  {
   "cell_type": "code",
   "execution_count": 34,
   "metadata": {},
   "outputs": [],
   "source": [
    "result_merge=df.to_csv('result_merge.csv')#将合并好的数据df输出为result_merge.csv"
   ]
  },
  {
   "cell_type": "markdown",
   "metadata": {},
   "source": [
    "剩下步骤在Excel中操作\n",
    "\n",
    "1、将.csv另存为.xlsx\n",
    "\n",
    "2、利用vlookup函数按combined_id索引填充各变量"
   ]
  },
  {
   "cell_type": "markdown",
   "metadata": {},
   "source": [
    "# 上述循环解释"
   ]
  },
  {
   "cell_type": "code",
   "execution_count": 465,
   "metadata": {
    "collapsed": true
   },
   "outputs": [
    {
     "data": {
      "text/plain": [
       "0     False\n",
       "1     False\n",
       "2     False\n",
       "3     False\n",
       "4     False\n",
       "5     False\n",
       "6     False\n",
       "7     False\n",
       "8     False\n",
       "9     False\n",
       "10    False\n",
       "11    False\n",
       "12    False\n",
       "13    False\n",
       "14    False\n",
       "15    False\n",
       "16    False\n",
       "17    False\n",
       "18    False\n",
       "19    False\n",
       "20    False\n",
       "21    False\n",
       "22    False\n",
       "23    False\n",
       "24    False\n",
       "25    False\n",
       "26    False\n",
       "27    False\n",
       "28    False\n",
       "29    False\n",
       "dtype: bool"
      ]
     },
     "execution_count": 465,
     "metadata": {},
     "output_type": "execute_result"
    }
   ],
   "source": [
    "#循环中的a是，对比后每行间变量是否一致\n",
    "a"
   ]
  },
  {
   "cell_type": "code",
   "execution_count": 466,
   "metadata": {},
   "outputs": [
    {
     "data": {
      "text/plain": [
       "count        30\n",
       "unique        1\n",
       "top       False\n",
       "freq         30\n",
       "dtype: object"
      ]
     },
     "execution_count": 466,
     "metadata": {},
     "output_type": "execute_result"
    }
   ],
   "source": [
    "a.describe()#描述a，可以看到占比多的是True或者False"
   ]
  },
  {
   "cell_type": "code",
   "execution_count": 468,
   "metadata": {},
   "outputs": [
    {
     "data": {
      "text/html": [
       "<div>\n",
       "<style scoped>\n",
       "    .dataframe tbody tr th:only-of-type {\n",
       "        vertical-align: middle;\n",
       "    }\n",
       "\n",
       "    .dataframe tbody tr th {\n",
       "        vertical-align: top;\n",
       "    }\n",
       "\n",
       "    .dataframe thead th {\n",
       "        text-align: right;\n",
       "    }\n",
       "</style>\n",
       "<table border=\"1\" class=\"dataframe\">\n",
       "  <thead>\n",
       "    <tr style=\"text-align: right;\">\n",
       "      <th></th>\n",
       "      <th>0</th>\n",
       "    </tr>\n",
       "  </thead>\n",
       "  <tbody>\n",
       "    <tr>\n",
       "      <th>count</th>\n",
       "      <td>30</td>\n",
       "    </tr>\n",
       "    <tr>\n",
       "      <th>unique</th>\n",
       "      <td>1</td>\n",
       "    </tr>\n",
       "    <tr>\n",
       "      <th>top</th>\n",
       "      <td>False</td>\n",
       "    </tr>\n",
       "    <tr>\n",
       "      <th>freq</th>\n",
       "      <td>30</td>\n",
       "    </tr>\n",
       "  </tbody>\n",
       "</table>\n",
       "</div>"
      ],
      "text/plain": [
       "            0\n",
       "count      30\n",
       "unique      1\n",
       "top     False\n",
       "freq       30"
      ]
     },
     "execution_count": 468,
     "metadata": {},
     "output_type": "execute_result"
    }
   ],
   "source": [
    "b=pd.DataFrame(a.describe())#构建数据框，便于转置\n",
    "b"
   ]
  },
  {
   "cell_type": "code",
   "execution_count": 469,
   "metadata": {},
   "outputs": [
    {
     "data": {
      "text/html": [
       "<div>\n",
       "<style scoped>\n",
       "    .dataframe tbody tr th:only-of-type {\n",
       "        vertical-align: middle;\n",
       "    }\n",
       "\n",
       "    .dataframe tbody tr th {\n",
       "        vertical-align: top;\n",
       "    }\n",
       "\n",
       "    .dataframe thead th {\n",
       "        text-align: right;\n",
       "    }\n",
       "</style>\n",
       "<table border=\"1\" class=\"dataframe\">\n",
       "  <thead>\n",
       "    <tr style=\"text-align: right;\">\n",
       "      <th></th>\n",
       "      <th>count</th>\n",
       "      <th>unique</th>\n",
       "      <th>top</th>\n",
       "      <th>freq</th>\n",
       "    </tr>\n",
       "  </thead>\n",
       "  <tbody>\n",
       "    <tr>\n",
       "      <th>0</th>\n",
       "      <td>30</td>\n",
       "      <td>1</td>\n",
       "      <td>False</td>\n",
       "      <td>30</td>\n",
       "    </tr>\n",
       "  </tbody>\n",
       "</table>\n",
       "</div>"
      ],
      "text/plain": [
       "  count unique    top freq\n",
       "0    30      1  False   30"
      ]
     },
     "execution_count": 469,
     "metadata": {},
     "output_type": "execute_result"
    }
   ],
   "source": [
    "b.T#转置"
   ]
  },
  {
   "cell_type": "code",
   "execution_count": 470,
   "metadata": {},
   "outputs": [
    {
     "data": {
      "text/plain": [
       "0    False\n",
       "Name: top, dtype: object"
      ]
     },
     "execution_count": 470,
     "metadata": {},
     "output_type": "execute_result"
    }
   ],
   "source": [
    "c=b.T[\"top\"]#对数据框b转置，为获得top为True或者False，并以此判定是否为可疑重复变量\n",
    "c"
   ]
  },
  {
   "cell_type": "code",
   "execution_count": 471,
   "metadata": {},
   "outputs": [
    {
     "data": {
      "text/html": [
       "<div>\n",
       "<style scoped>\n",
       "    .dataframe tbody tr th:only-of-type {\n",
       "        vertical-align: middle;\n",
       "    }\n",
       "\n",
       "    .dataframe tbody tr th {\n",
       "        vertical-align: top;\n",
       "    }\n",
       "\n",
       "    .dataframe thead th {\n",
       "        text-align: right;\n",
       "    }\n",
       "</style>\n",
       "<table border=\"1\" class=\"dataframe\">\n",
       "  <thead>\n",
       "    <tr style=\"text-align: right;\">\n",
       "      <th></th>\n",
       "      <th>top</th>\n",
       "    </tr>\n",
       "  </thead>\n",
       "  <tbody>\n",
       "    <tr>\n",
       "      <th>0</th>\n",
       "      <td>False</td>\n",
       "    </tr>\n",
       "  </tbody>\n",
       "</table>\n",
       "</div>"
      ],
      "text/plain": [
       "     top\n",
       "0  False"
      ]
     },
     "execution_count": 471,
     "metadata": {},
     "output_type": "execute_result"
    }
   ],
   "source": [
    "c = pd.DataFrame(c)  #构建数据框便于分析\n",
    "c"
   ]
  },
  {
   "cell_type": "code",
   "execution_count": 472,
   "metadata": {},
   "outputs": [
    {
     "data": {
      "text/plain": [
       "False"
      ]
     },
     "execution_count": 472,
     "metadata": {},
     "output_type": "execute_result"
    }
   ],
   "source": [
    "c = c.iloc[0, 0]  #摘取True或者False用于if语句\n",
    "c"
   ]
  }
 ],
 "metadata": {
  "kernelspec": {
   "display_name": "Python 3",
   "language": "python",
   "name": "python3"
  },
  "language_info": {
   "codemirror_mode": {
    "name": "ipython",
    "version": 3
   },
   "file_extension": ".py",
   "mimetype": "text/x-python",
   "name": "python",
   "nbconvert_exporter": "python",
   "pygments_lexer": "ipython3",
   "version": "3.7.6"
  },
  "toc": {
   "base_numbering": 1,
   "nav_menu": {},
   "number_sections": true,
   "sideBar": true,
   "skip_h1_title": false,
   "title_cell": "Table of Contents",
   "title_sidebar": "Contents",
   "toc_cell": false,
   "toc_position": {
    "height": "227.533px",
    "left": "481px",
    "top": "152.667px",
    "width": "352.764px"
   },
   "toc_section_display": true,
   "toc_window_display": true
  },
  "varInspector": {
   "cols": {
    "lenName": 16,
    "lenType": 16,
    "lenVar": 40
   },
   "kernels_config": {
    "python": {
     "delete_cmd_postfix": "",
     "delete_cmd_prefix": "del ",
     "library": "var_list.py",
     "varRefreshCmd": "print(var_dic_list())"
    },
    "r": {
     "delete_cmd_postfix": ") ",
     "delete_cmd_prefix": "rm(",
     "library": "var_list.r",
     "varRefreshCmd": "cat(var_dic_list()) "
    }
   },
   "types_to_exclude": [
    "module",
    "function",
    "builtin_function_or_method",
    "instance",
    "_Feature"
   ],
   "window_display": false
  }
 },
 "nbformat": 4,
 "nbformat_minor": 4
}
